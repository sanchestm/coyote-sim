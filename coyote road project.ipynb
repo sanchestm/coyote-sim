{
 "cells": [
  {
   "cell_type": "code",
   "execution_count": 4,
   "metadata": {
    "collapsed": true
   },
   "outputs": [],
   "source": [
    "import numpy as np\n",
    "import matplotlib.pyplot as plt\n",
    "import matplotlib\n",
    "matplotlib.style.use(\"ggplot\")\n",
    "%matplotlib inline"
   ]
  },
  {
   "cell_type": "code",
   "execution_count": 47,
   "metadata": {
    "collapsed": true
   },
   "outputs": [],
   "source": [
    "class population:\n",
    "    def __init__(self, plist, N):\n",
    "        self.plist = np.array(plist)\n",
    "        self.N = N\n",
    "        \n",
    "        self.Rb = 1\n",
    "        self.k = 1000\n",
    "        self.rd = 10**(-4)\n",
    "    \n",
    "    def update():\n",
    "        birth = self.N*self.Rb*(1 - self.N/self.k)\n",
    "        death = self.N**2\n",
    "        self.N += self.N\n",
    "        \n",
    "        \n",
    "    def Hlist(self): return np.array([2*p*(1-p) for p in self.plist])\n",
    "    def averageH(self): return self.Hlist().mean()\n",
    "        \n",
    "        \n",
    "        \n",
    "    \n",
    "    "
   ]
  },
  {
   "cell_type": "code",
   "execution_count": 48,
   "metadata": {
    "collapsed": true
   },
   "outputs": [],
   "source": [
    "plista = np.array([np.random.rand() for i in range(10)])\n",
    "Na = 1000\n",
    "sidea = population(plista, Na)"
   ]
  },
  {
   "cell_type": "code",
   "execution_count": 49,
   "metadata": {},
   "outputs": [
    {
     "name": "stdout",
     "output_type": "stream",
     "text": [
      "[ 0.01211522  0.1332773   0.81982698  0.52140452  0.1404499   0.75396154\n",
      "  0.61151504  0.57492677  0.97657028  0.64911031] 1000 [ 0.02393688  0.23102892  0.29542141  0.49908369  0.24144745  0.37100707\n",
      "  0.47512879  0.48877196  0.04576153  0.45553223] 0.312711994082\n"
     ]
    }
   ],
   "source": [
    "print(sidea.plist, sidea.N, sidea.Hlist(), sidea.averageH())"
   ]
  },
  {
   "cell_type": "code",
   "execution_count": 55,
   "metadata": {},
   "outputs": [
    {
     "data": {
      "text/plain": [
       "0.0001"
      ]
     },
     "execution_count": 55,
     "metadata": {},
     "output_type": "execute_result"
    }
   ],
   "source": [
    "a = 10**(-4)\n",
    "a"
   ]
  },
  {
   "cell_type": "code",
   "execution_count": null,
   "metadata": {
    "collapsed": true
   },
   "outputs": [],
   "source": []
  },
  {
   "cell_type": "code",
   "execution_count": 52,
   "metadata": {},
   "outputs": [
    {
     "data": {
      "text/plain": [
       "-10"
      ]
     },
     "execution_count": 52,
     "metadata": {},
     "output_type": "execute_result"
    }
   ],
   "source": [
    "a"
   ]
  },
  {
   "cell_type": "code",
   "execution_count": null,
   "metadata": {
    "collapsed": true
   },
   "outputs": [],
   "source": []
  },
  {
   "cell_type": "code",
   "execution_count": null,
   "metadata": {
    "collapsed": true
   },
   "outputs": [],
   "source": []
  }
 ],
 "metadata": {
  "kernelspec": {
   "display_name": "Python 3",
   "language": "python",
   "name": "python3"
  },
  "language_info": {
   "codemirror_mode": {
    "name": "ipython",
    "version": 3
   },
   "file_extension": ".py",
   "mimetype": "text/x-python",
   "name": "python",
   "nbconvert_exporter": "python",
   "pygments_lexer": "ipython3",
   "version": "3.6.1"
  }
 },
 "nbformat": 4,
 "nbformat_minor": 2
}
