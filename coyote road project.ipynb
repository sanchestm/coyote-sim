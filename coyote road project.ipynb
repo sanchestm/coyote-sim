{
 "cells": [
  {
   "cell_type": "code",
   "execution_count": 1,
   "metadata": {
    "collapsed": true
   },
   "outputs": [],
   "source": [
    "import numpy as np\n",
    "import matplotlib.pyplot as plt\n",
    "import matplotlib\n",
    "import random as rand\n",
    "import math \n",
    "import string as strin\n",
    "matplotlib.style.use(\"ggplot\")\n",
    "%matplotlib inline"
   ]
  },
  {
   "cell_type": "markdown",
   "metadata": {},
   "source": [
    "## **Testing random choice **"
   ]
  },
  {
   "cell_type": "code",
   "execution_count": 2,
   "metadata": {
    "collapsed": false
   },
   "outputs": [
    {
     "name": "stdout",
     "output_type": "stream",
     "text": [
      "0.2\n",
      "CPU times: user 16 ms, sys: 0 ns, total: 16 ms\n",
      "Wall time: 16.1 ms\n"
     ]
    }
   ],
   "source": [
    "%%time\n",
    "p = 0.4\n",
    "N = 10**1\n",
    "p= np.random.choice([1,0], N,p=[p, 1-p]).sum()/N\n",
    "print(p)\n"
   ]
  },
  {
   "cell_type": "markdown",
   "metadata": {},
   "source": [
    "## testing average matrix from numpy"
   ]
  },
  {
   "cell_type": "code",
   "execution_count": 3,
   "metadata": {
    "collapsed": false
   },
   "outputs": [
    {
     "data": {
      "text/plain": [
       "array([ 2.,  3.])"
      ]
     },
     "execution_count": 3,
     "metadata": {},
     "output_type": "execute_result"
    }
   ],
   "source": [
    "data = np.array([[0, 1],\n",
    "       [2, 3],\n",
    "       [4, 5]])\n",
    "np.average(data, axis=0,weights=[1./4, 2./4, 1/4])"
   ]
  },
  {
   "cell_type": "markdown",
   "metadata": {},
   "source": [
    "# Class for a single population"
   ]
  },
  {
   "cell_type": "code",
   "execution_count": 4,
   "metadata": {
    "collapsed": true
   },
   "outputs": [],
   "source": [
    "class population:\n",
    "    def __init__(self, plist, N):\n",
    "        self.plist = np.array(plist)\n",
    "        self.N = N\n",
    "        \n",
    "        self.Rb = 1\n",
    "        self.k = 20000\n",
    "        self.rd = 10**(-3)\n",
    "    \n",
    "    def update(self):\n",
    "\n",
    "        birth = int(self.N*self.Rb*(1 - self.N/self.k))\n",
    "\n",
    "        if birth == 0: Birthplist = np.zeros(len(self.plist)); print('no birth')\n",
    "        else:Birthplist = np.array([np.random.choice([1,0], birth,p=[pi, 1-pi]).sum()/birth for pi in self.plist])\n",
    "\n",
    "        death = int(self.rd*self.N**2)\n",
    "        survived = int(self.N - death)\n",
    "        if survived == 0: Survivingplist = np.zeros(len(self.plist));print('ish')\n",
    "        Survivingplist = np.array([np.random.choice([1,0], survived ,p=[pi, 1-pi]).sum()/survived for pi in self.plist])\n",
    "\n",
    "        self.N += birth - death\n",
    "        if self.N <= 0: print(\"dead pop\")\n",
    "\n",
    "        birthNSurvivedMatrix = np.array([Birthplist, Survivingplist ]) #self.plist\n",
    "        self.plist = np.average(birthNSurvivedMatrix, axis = 0, weights=[birth/self.N,survived/self.N])\n",
    "        \n",
    "\n",
    "        \n",
    "        \n",
    "    def Hlist(self): return np.array([2*p*(1-p) for p in self.plist])\n",
    "    def averageH(self): return self.Hlist().mean()\n",
    "        "
   ]
  },
  {
   "cell_type": "markdown",
   "metadata": {},
   "source": [
    "# One Population Simulation"
   ]
  },
  {
   "cell_type": "code",
   "execution_count": 5,
   "metadata": {
    "collapsed": true
   },
   "outputs": [],
   "source": [
    "plista = np.array([np.random.rand() for i in range(10)])\n",
    "Na = 200\n",
    "sidea = population(plista, Na)"
   ]
  },
  {
   "cell_type": "code",
   "execution_count": 6,
   "metadata": {
    "collapsed": false
   },
   "outputs": [
    {
     "data": {
      "image/png": "[encoded data removed]",
      "text/plain": [
       "<matplotlib.figure.Figure at 0x7f800c1bd8d0>"
      ]
     },
     "metadata": {},
     "output_type": "display_data"
    },
    {
     "data": {
      "image/png": "[encoded data removed]",
      "text/plain": [
       "<matplotlib.figure.Figure at 0x7f800c1f4b70>"
      ]
     },
     "metadata": {},
     "output_type": "display_data"
    },
    {
     "name": "stdout",
     "output_type": "stream",
     "text": [
      "CPU times: user 484 ms, sys: 508 ms, total: 992 ms\n",
      "Wall time: 417 ms\n"
     ]
    }
   ],
   "source": [
    "%%time\n",
    "history = []\n",
    "Hhistory = []\n",
    "for i in range(50): \n",
    "    history += [sidea.N] \n",
    "    Hhistory += [sidea.averageH()]\n",
    "    sidea.update()\n",
    "    \n",
    "plt.plot(history, label = \"popsize\");\n",
    "plt.show()\n",
    "plt.plot(Hhistory, label = 'H');\n",
    "plt.show()\n"
   ]
  },
  {
   "cell_type": "markdown",
   "metadata": {},
   "source": [
    "# Making class to Simulate migration"
   ]
  },
  {
   "cell_type": "code",
   "execution_count": 7,
   "metadata": {
    "collapsed": true
   },
   "outputs": [],
   "source": [
    "class wholePop:\n",
    "    def __init__(self, populationA, populationB): \n",
    "        self.popa = populationA\n",
    "        self.popb = populationB\n",
    "        self.alphaA = .2\n",
    "        self.alphaB = .2\n",
    "        self.deathprob = .3\n",
    "        self.nRoadsCrossedPerTimeUnit = 3\n",
    "    def migrate(self):\n",
    "        \n",
    "        AtoB = self.alphaA*self.popa.N\n",
    "        survivedAtoB = (1-self.deathprob)*AtoB\n",
    "        BtoA = self.alphaB*self.popb.N\n",
    "        survivedBtoA = (1- self.deathprob)*BtoA\n",
    "        \n",
    "        self.popa.plist = np.average([self.popa.plist, self.popb.plist], axis = 0 , weights = [self.popa.N-AtoB,survivedBtoA])\n",
    "        self.popb.plist = np.average([self.popb.plist, self.popa.plist], axis = 0 , weights = [self.popb.N-BtoA,survivedAtoB])\n",
    "        self.popa.N += survivedBtoA - AtoB\n",
    "        self.popb.N += survivedAtoB - BtoA\n",
    "        \n",
    "        \n",
    "        \n",
    "    def update(self):\n",
    "        self.popa.update() \n",
    "        self.popb.update()\n",
    "        self.migrate()\n",
    "        \n",
    "    def FSTlist(self):\n",
    "        PfreqMatrix = np.array([self.popa.plist, self.popb.plist])\n",
    "        avgPFreq = np.average(PfreqMatrix, axis = 0 , weights = [.5,.5])\n",
    "        expectedHlist = np.array([2*p*(1-p) for p in avgPFreq])\n",
    "        \n",
    "        HlistMatrixFromPops = np.array([self.popa.Hlist(), self.popb.Hlist()])\n",
    "        ObservedHlistBothPops = np.average(HlistMatrixFromPops, axis = 0,  weights = [.5,.5])\n",
    "        \n",
    "        with np.errstate(divide='ignore', invalid='ignore'):\n",
    "            subtraction = (expectedHlist - ObservedHlistBothPops)\n",
    "            result = np.true_divide(subtraction,expectedHlist)\n",
    "            result[result == np.inf] = 0\n",
    "            result = np.nan_to_num(result)\n",
    "        \n",
    "        return result\n",
    "    \n",
    "    def FST(self): return self.FSTlist().mean()\n",
    "        \n",
    "        "
   ]
  },
  {
   "cell_type": "markdown",
   "metadata": {},
   "source": [
    "# Adding another population"
   ]
  },
  {
   "cell_type": "code",
   "execution_count": 8,
   "metadata": {
    "collapsed": true
   },
   "outputs": [],
   "source": [
    "plist = np.array([np.random.rand() for i in range(10)])\n",
    "Na = 500\n",
    "sidea = population(plist, Na)\n",
    "sideb = population(plist, Na)\n",
    "bothsides = wholePop(sidea, sideb)\n"
   ]
  },
  {
   "cell_type": "code",
   "execution_count": null,
   "metadata": {
    "collapsed": false
   },
   "outputs": [
    {
     "data": {
      "image/png": "[encoded data removed]",
      "text/plain": [
       "<matplotlib.figure.Figure at 0x7f800c1bdc18>"
      ]
     },
     "metadata": {},
     "output_type": "display_data"
    },
    {
     "data": {
      "image/png": "[encoded data removed]",
      "text/plain": [
       "<matplotlib.figure.Figure at 0x7f7fe561aac8>"
      ]
     },
     "metadata": {},
     "output_type": "display_data"
    },
    {
     "data": {
      "image/png": "[encoded data removed]",
      "text/plain": [
       "<matplotlib.figure.Figure at 0x7f7fe3476e80>"
      ]
     },
     "metadata": {},
     "output_type": "display_data"
    },
    {
     "name": "stdout",
     "output_type": "stream",
     "text": [
      "CPU times: user 2.34 s, sys: 884 ms, total: 3.23 s\n",
      "Wall time: 2.21 s\n"
     ]
    }
   ],
   "source": [
    "%%time\n",
    "historyA = []; historyB = []\n",
    "HhistoryA = []; HhistoryB = []\n",
    "FST_list = []\n",
    "for i in range(500): \n",
    "    historyA += [bothsides.popa.N] \n",
    "    HhistoryA += [bothsides.popa.averageH()]\n",
    "    historyB += [bothsides.popb.N] \n",
    "    HhistoryB += [bothsides.popb.averageH()]\n",
    "    FST_list += [bothsides.FST()]\n",
    "    bothsides.update()\n",
    "\n",
    "    \n",
    "plt.plot(historyA, label = \"A\", color = 'r');\n",
    "plt.plot(historyB, label = \"B\", color = 'g');\n",
    "plt.title(\"Population size\")\n",
    "plt.legend()\n",
    "plt.show()\n",
    "plt.plot(HhistoryA, label = 'A', color = 'r');\n",
    "plt.plot(HhistoryB, label = 'B', color = 'g');\n",
    "plt.title('Average H')\n",
    "plt.show()\n",
    "plt.plot(FST_list)\n",
    "plt.title('FST')\n",
    "plt.show()\n",
    "\n",
    "## reset values\n",
    "plist = np.array([np.random.rand() for i in range(10)])\n",
    "Na = 100\n",
    "sidea = population(plist, Na)\n",
    "sideb = population(plist, Na)\n",
    "bothsides = wholePop(sidea, sideb)"
   ]
  },
  {
   "cell_type": "markdown",
   "metadata": {},
   "source": [
    "## FST heatmap altering migration and death"
   ]
  },
  {
   "cell_type": "code",
   "execution_count": null,
   "metadata": {
    "collapsed": false
   },
   "outputs": [],
   "source": [
    "%%time\n",
    "XD, M = 20, 20\n",
    "heatmap = np.zeros((XD,M))\n",
    "heatmap_pop = np.zeros((XD,M))\n",
    "plist = np.array([np.random.rand() for i in range(50)])\n",
    "Na = 500\n",
    "\n",
    "for Dcounter, deathrateI in enumerate(np.linspace(0.05, .95 , XD)):\n",
    "    for Mcounter, migrationI in enumerate(np.linspace(0.05, .52, M)):\n",
    "        sidea = population(plist, Na)\n",
    "        sideb = population(plist, Na)\n",
    "        bothsides = wholePop(sidea, sideb)\n",
    "        bothsides.deathprob = deathrateI\n",
    "        bothsides.alphaA, bothsides.alphaB = migrationI, migrationI\n",
    "        \n",
    "        for i in range(500): bothsides.update()\n",
    "        heatmap[Dcounter, Mcounter] = math.log10(bothsides.FST())\n",
    "        heatmap_pop[Dcounter, Mcounter] = bothsides.popa.N + bothsides.popb.N\n",
    "        \n",
    "plt.imshow(heatmap, origin = 'lower')\n",
    "plt.title('FST')\n",
    "plt.grid(False)\n",
    "plt.xticks([])\n",
    "plt.yticks([])\n",
    "plt.xlabel('Migration')\n",
    "plt.ylabel('Xing Death Prob')\n",
    "plt.colorbar()\n",
    "plt.savefig(\"heatmap\", figsize= (10,10),  bbox_inches='tight', DPI = 300)\n",
    "plt.show()\n",
    "plt.close()\n",
    "\n",
    "plt.imshow(heatmap_pop, origin = 'lower')\n",
    "plt.title('Population Size')\n",
    "plt.grid(False)\n",
    "plt.xticks([])\n",
    "plt.yticks([])\n",
    "plt.xlabel('Migration')\n",
    "plt.ylabel('Xing Death Prob')\n",
    "plt.colorbar()\n",
    "plt.savefig(\"heatmap_pop\", figsize= (10,10),  bbox_inches='tight', DPI = 300)\n",
    "plt.show()\n",
    "            \n",
    "        \n",
    "        "
   ]
  },
  {
   "cell_type": "markdown",
   "metadata": {},
   "source": [
    "# Infinite Allele Model "
   ]
  },
  {
   "cell_type": "code",
   "execution_count": null,
   "metadata": {
    "collapsed": true
   },
   "outputs": [],
   "source": [
    "class microsattelite:\n",
    "    def __init__(self, initial_list, newNames = True):\n",
    "        self.microsat = np.array(initial_list)\n",
    "        self.mutation_rate = 10**(-2)\n",
    "        self.initialAlleleCount = len(initial_list)\n",
    "        self.s = strin.ascii_lowercase + strin.digits\n",
    "        if newNames == True:\n",
    "            self.satNames = [\"ORI\"+\"\".join([rand.choice(self.s) for k in range(3)]) for i in range(len(initial_list))]\n",
    "        else: \n",
    "            self.satNames = newNames\n",
    "        \n",
    "    def Allele_count(self):\n",
    "        return len(self.microsat)\n",
    "        \n",
    "    def New_mutation(self, N):\n",
    "        if N <= 0: print('zero division here'); N= 1\n",
    "        self.microsat*=((N-1)/N)\n",
    "        self.microsat = np.append(self.microsat, [1/N])\n",
    "        self.satNames += [\"\".join([rand.choice(self.s) for k in range(5)])]\n",
    "\n",
    "    def number_of_mutation_that_occured(self, N, sigma): \n",
    "        return np.random.choice([1,0], N,p=[sigma, 1-sigma]).sum()\n",
    "    \n",
    "    \n",
    "    #tested and working\n",
    "    def sample_generator(self, Nsamples, rep = True):\n",
    "        if Nsamples <= 0: print('major error here')\n",
    "        probs  = np.array([max(0, i) for i in self.microsat])\n",
    "        probs*= 1/probs.sum()\n",
    "        new_list = np.zeros(self.Allele_count())\n",
    "        alleleSamples = np.random.choice(self.Allele_count(), Nsamples ,p=probs, replace= rep)\n",
    "        for i in alleleSamples: new_list[i] += 1\n",
    "            \n",
    "        return microsattelite(new_list/Nsamples, self.satNames)\n",
    "    \n",
    "    def Heterozygosity(self):\n",
    "        return 1 - np.array([x**2 for x in self.microsat]).sum()\n",
    "    \n",
    "    def trim_null_microsats(self, N):\n",
    "        result = []\n",
    "        result_names =[]\n",
    "        for position,value in enumerate(self.microsat):\n",
    "            if value >= 10**(-math.log10(N)):\n",
    "                result += [value]\n",
    "                result_names += [self.satNames[position]]\n",
    "        \n",
    "        self.microsat = np.array(result)\n",
    "        self.satNames = result_names\n",
    "        \n",
    "        #self.microsat = self.microsat[self.microsat > 10**(-math.log10(N))] \n",
    "        self.microsat *= 1/self.microsat.sum()\n",
    "        \n",
    "    def nonreplaceSampleGen(self, N_sample, N):\n",
    "\n",
    "        new_list = np.zeros(self.Allele_count())\n",
    "        FULLPOP = np.array([])\n",
    "        for counter, alleleFreq in enumerate(self.microsat):\n",
    "            FULLPOP =np.append(FULLPOP, np.full(int(N*alleleFreq), counter))\n",
    "        SAMPLE = np.random.choice(FULLPOP, int(N_sample), replace = False)\n",
    "        for i in SAMPLE: new_list[int(i)] += 1\n",
    "        \n",
    "        samplefreq = new_list/new_list.sum()\n",
    "        \n",
    "        return microsattelite(samplefreq, self.satNames)\n",
    "           \n",
    "\n",
    "            \n",
    "    \n",
    "def generate_random_microsatellite_list(size, nalleles):\n",
    "    tempList = []\n",
    "    for j in range(size):\n",
    "        randomprobs = np.array([rand.random() for i in range(nalleles)])\n",
    "        randomprobs *= 1/randomprobs.sum()\n",
    "        tempList += [microsattelite(randomprobs)]\n",
    "    return np.array(tempList)\n",
    "    \n",
    "        \n",
    "#tested and working        \n",
    "def weighted_avg_microsat(microsat1, n1, microsat2, n2):\n",
    "    if n1+ n2<=0: print('error_avg microsat'); return 0\n",
    "    avg = [(microsat1.microsat[i]*n1 + microsat2.microsat[i]*n2)/(n1+n2) for i in range(microsat1.Allele_count())]\n",
    "    return microsattelite(np.array(avg), microsat1.satNames)\n",
    "\n",
    "def migrated_microsat_freq(microsatTotal, ntotal, microsatstayed, nstayed): #funciona\n",
    "    avg = [(microsatTotal.microsat[i]*ntotal - microsatstayed.microsat[i]*nstayed)/(ntotal-nstayed) for i in range(microsatTotal.Allele_count())]\n",
    "    return microsattelite(np.array(avg), microsatTotal.satNames)\n",
    "\n",
    "class population_IAM:\n",
    "    def __init__(self, plist, N):\n",
    "        self.microsatLIST = np.array(plist)\n",
    "        self.N = N\n",
    "        self.Rb = 1\n",
    "        self.k = 20000\n",
    "        self.mutationrate = 10**(-2.5)\n",
    "        self.rd = 10**(-3)\n",
    "            \n",
    "    def update(self):\n",
    "\n",
    "        birth = int(self.N*self.Rb*(1 - self.N/self.k))\n",
    "\n",
    "        Birthsamples = np.array([eachmicrosat.sample_generator(birth) for eachmicrosat in self.microsatLIST])\n",
    "\n",
    "        death = self.rd*self.N**2\n",
    "        survived = int(self.N - death)\n",
    "        if survived == 0: Survivingplist = np.zeros(len(self.plist));print('ish')\n",
    "        \n",
    "        Survivingsamples = np.array([eachmicrosat.nonreplaceSampleGen(survived,self.N) for eachmicrosat in self.microsatLIST])\n",
    "        self.N = birth + survived\n",
    "        if self.N <= 0: print(\"dead pop\")\n",
    "\n",
    "        self.microsatLIST = [weighted_avg_microsat(Birthsamples[i],birth, Survivingsamples[i], survived) for i in range(len(self.microsatLIST))]\n",
    "        self.microsatLIST = np.array(self.microsatLIST)\n",
    "        \n",
    "        for eachsat in self.microsatLIST: \n",
    "            eachsat.trim_null_microsats(self.N)\n",
    "            for i in range(eachsat.number_of_mutation_that_occured(birth, self.mutationrate)):  eachsat.New_mutation(self.N)\n",
    "        \n",
    "    def Hlist(self): return np.array([x.Heterozygosity() for x in self.microsatLIST])\n",
    "    def averageH(self): return self.Hlist().mean()\n",
    "        \n",
    "        \n",
    "        "
   ]
  },
  {
   "cell_type": "markdown",
   "metadata": {},
   "source": [
    "testing weighted avg function and heterozygosity function"
   ]
  },
  {
   "cell_type": "code",
   "execution_count": null,
   "metadata": {
    "collapsed": false
   },
   "outputs": [],
   "source": [
    "%%time\n",
    "a = microsattelite([.5,.5, .0])\n",
    "b = microsattelite([.3, .5, .0])\n",
    "c =weighted_avg_microsat(a, 1000000, b,5)\n",
    "print(c.microsat)\n",
    "a.New_mutation(100)\n",
    "print(a.microsat)\n",
    "print(a.satNames)\n",
    "print(a.satNames[0])\n",
    "a.trim_null_microsats(1000)\n",
    "print(a.microsat)\n",
    "print(a.satNames)\n",
    "print(a.nonreplaceSampleGen(499, 500).microsat )\n",
    "d = migrated_microsat_freq(a, 100, b,9 )\n",
    "print(d.microsat)\n"
   ]
  },
  {
   "cell_type": "markdown",
   "metadata": {},
   "source": [
    "testing sample generator function"
   ]
  },
  {
   "cell_type": "code",
   "execution_count": null,
   "metadata": {
    "collapsed": false
   },
   "outputs": [],
   "source": [
    "%%time\n",
    "a = microsattelite([.5,.5])\n",
    "b = a.sample_generator(100)\n",
    "print(b.microsat)\n",
    "\n"
   ]
  },
  {
   "cell_type": "markdown",
   "metadata": {},
   "source": [
    "testing initial microsat generator"
   ]
  },
  {
   "cell_type": "code",
   "execution_count": null,
   "metadata": {
    "collapsed": false
   },
   "outputs": [],
   "source": [
    "a = generate_random_microsatellite_list(3, 2)\n",
    "print(a[2].microsat.sum())"
   ]
  },
  {
   "cell_type": "markdown",
   "metadata": {},
   "source": [
    "## Testing a single population in the IAM model"
   ]
  },
  {
   "cell_type": "code",
   "execution_count": null,
   "metadata": {
    "collapsed": false
   },
   "outputs": [],
   "source": [
    "%%time\n",
    "\n",
    "sidea = population_IAM(generate_random_microsatellite_list(5, 3), 200)\n",
    "print(sidea.microsatLIST[0].microsat)\n",
    "print(sidea.microsatLIST[0].satNames)\n",
    "history = []\n",
    "Hhistory = []\n",
    "for i in range(1000): \n",
    "    history += [sidea.N] \n",
    "    Hhistory += [sidea.averageH()]\n",
    "    sidea.update()\n",
    "    \n",
    "plt.plot(history );\n",
    "plt.title(\"Population Size\")\n",
    "plt.show()\n",
    "plt.plot(Hhistory);\n",
    "plt.title('Heterozigosity')\n",
    "plt.show()\n",
    "print([x.Allele_count() for x in sidea.microsatLIST])\n",
    "print(np.array([sidea.microsatLIST[n].microsat for n in range(5)]))\n",
    "print(np.array([sidea.microsatLIST[n].satNames for n in range(5)]))\n",
    "\n"
   ]
  },
  {
   "cell_type": "markdown",
   "metadata": {},
   "source": [
    "# Making two populations with migration in the IAM model"
   ]
  },
  {
   "cell_type": "code",
   "execution_count": null,
   "metadata": {
    "collapsed": true
   },
   "outputs": [],
   "source": [
    "def unify_alleles_avg(microsat1, n1, microsat2, n2): #tested and working \n",
    "    result = []\n",
    "    alll = set(microsat1.satNames) | set(microsat2.satNames)\n",
    "    for i in alll:\n",
    "        if i in microsat1.satNames: firstpart = microsat1.microsat[microsat1.satNames.index(i)]*n1\n",
    "        else: firstpart = 0\n",
    "        if i in microsat2.satNames: secondpart = microsat2.microsat[microsat2.satNames.index(i)]*n2\n",
    "        else: secondpart = 0\n",
    "        result += [(firstpart + secondpart)/(n1+n2)]\n",
    "    return microsattelite(np.array(result), list(alll))\n",
    "\n",
    "\n",
    "class WholePop_IAM:\n",
    "    def __init__(self, populationA, populationB): \n",
    "        self.popa = populationA\n",
    "        self.popb = populationB\n",
    "        self.alphaA = .02\n",
    "        self.alphaB = .02\n",
    "        self.deathprob = .9\n",
    "        self.nRoadsCrossedPerTimeUnit = 3\n",
    "        \n",
    "        \n",
    "    def migrate(self):\n",
    "        \n",
    "        AtoB = self.alphaA*self.popa.N\n",
    "        survivedAtoB = (1-self.deathprob)*AtoB\n",
    "        stayedAN = self.popa.N-AtoB\n",
    "\n",
    "        \n",
    "        stayedinAFreq = np.array([eachmicrosat.nonreplaceSampleGen(stayedAN,int(self.popa.N)) for eachmicrosat in self.popa.microsatLIST])\n",
    "        AtoBfreq = np.array([migrated_microsat_freq(self.popa.microsatLIST[i],self.popa.N, stayedinAFreq[i], stayedAN) for i in range(len(self.popa.microsatLIST))])\n",
    "\n",
    "                \n",
    "        \n",
    "        BtoA = self.alphaB*self.popb.N\n",
    "        survivedBtoA = (1- self.deathprob)*BtoA\n",
    "        stayedBN = int(self.popb.N-BtoA)\n",
    "        \n",
    "        stayedinBFreq = np.array([eachmicrosat.nonreplaceSampleGen(stayedBN ,int(self.popb.N)) for eachmicrosat in self.popb.microsatLIST])\n",
    "        BtoAfreq = np.array([migrated_microsat_freq(self.popb.microsatLIST[i],self.popb.N, stayedinBFreq[i], stayedBN) for i in range(len(self.popb.microsatLIST))])\n",
    "        \n",
    "        self.popa.microsatLIST = [unify_alleles_avg(stayedinAFreq[i],stayedAN,BtoAfreq[i], survivedBtoA) for i in range(len(self.popa.microsatLIST))]\n",
    "        self.popb.microsatLIST = [unify_alleles_avg(stayedinBFreq[i],stayedBN,AtoBfreq[i], survivedAtoB) for i in range(len(self.popb.microsatLIST))]\n",
    "        \n",
    "        self.popa.N += survivedBtoA - AtoB\n",
    "        self.popb.N += survivedAtoB - BtoA\n",
    "        \n",
    "    def update(self):\n",
    "        self.popa.update() \n",
    "        self.popb.update()\n",
    "        self.migrate()\n",
    "        \n",
    "    def FSTlist(self):\n",
    "        \n",
    "        expectedFreqs = [unify_alleles_avg(self.popa.microsatLIST[i],self.popa.N,self.popb.microsatLIST[i],self.popb.N) for i in range(len(self.popa.microsatLIST))]\n",
    "\n",
    "        global_pop = population_IAM(expectedFreqs, self.popa.N + self.popb.N)\n",
    "        expectedHlist = global_pop.Hlist()\n",
    "        \n",
    "        HlistMatrixFromPops = np.array([self.popa.Hlist(), self.popb.Hlist()])\n",
    "        ObservedHlistBothPops = np.average(HlistMatrixFromPops, axis = 0,  weights = [.5,.5])\n",
    "        \n",
    "        with np.errstate(divide='ignore', invalid='ignore'):\n",
    "            subtraction = (expectedHlist - ObservedHlistBothPops)\n",
    "            result = np.true_divide(subtraction,expectedHlist)\n",
    "            result[result == np.inf] = 0\n",
    "            result = np.nan_to_num(result)\n",
    "        \n",
    "        return result\n",
    "    \n",
    "    def FST(self): return self.FSTlist().mean()\n",
    "        "
   ]
  },
  {
   "cell_type": "code",
   "execution_count": null,
   "metadata": {
    "collapsed": false
   },
   "outputs": [],
   "source": [
    "plist = np.array([np.random.rand() for i in range(10)])\n",
    "Na = 200\n",
    "sidea = population_IAM(generate_random_microsatellite_list(5, 3), Na)\n",
    "sideb = population_IAM(generate_random_microsatellite_list(5, 3), Na)\n",
    "\n",
    "sideb = population_IAM(sidea.microsatLIST, Na)\n",
    "bothsides = WholePop_IAM(sidea, sideb)\n",
    "print(bothsides.popa.microsatLIST[0].microsat)\n",
    "\n",
    "print(bothsides.popb.microsatLIST[0].microsat)\n",
    "\n"
   ]
  },
  {
   "cell_type": "code",
   "execution_count": null,
   "metadata": {
    "collapsed": false
   },
   "outputs": [],
   "source": [
    "%%time\n",
    "historyA = []; historyB = []\n",
    "HhistoryA = []; HhistoryB = []\n",
    "FST_list = []\n",
    "for i in range(500): \n",
    "    \n",
    "    historyA += [bothsides.popa.N]\n",
    "    HhistoryA += [bothsides.popa.averageH()]\n",
    "    historyB += [bothsides.popb.N] \n",
    "    HhistoryB += [bothsides.popb.averageH()]\n",
    "    FST_list += [bothsides.FST()]\n",
    "    bothsides.update()\n",
    "\n",
    "    \n",
    "plt.plot(historyA, label = \"A\", color = 'r');\n",
    "plt.plot(historyB, label = \"B\", color = 'g');\n",
    "plt.title(\"Population size\")\n",
    "plt.legend()\n",
    "plt.show()\n",
    "plt.plot(HhistoryA, label = 'A', color = 'r');\n",
    "plt.plot(HhistoryB, label = 'B', color = 'g');\n",
    "plt.title('Average H')\n",
    "plt.show()\n",
    "plt.plot(FST_list)\n",
    "plt.title('FST')\n",
    "plt.show()\n",
    "\n",
    "print(np.array([bothsides.popa.microsatLIST[n].satNames for n in range(5)]))\n",
    "print(np.array([bothsides.popb.microsatLIST[n].satNames for n in range(5)]))\n"
   ]
  },
  {
   "cell_type": "code",
   "execution_count": null,
   "metadata": {
    "collapsed": false
   },
   "outputs": [],
   "source": [
    "%%time\n",
    "XD, M = 20, 20\n",
    "heatmap = np.zeros((XD,M))\n",
    "heatmap_pop = np.zeros((XD,M))\n",
    "Na = 500\n",
    "\n",
    "for Dcounter, deathrateI in enumerate(np.linspace(0.1, .8 , XD)):\n",
    "    for Mcounter, migrationI in enumerate(np.linspace(0.1, .52, M)):\n",
    "        sidea = population_IAM(generate_random_microsatellite_list(5, 3), Na)\n",
    "        sideb = population_IAM(sidea.microsatLIST, Na)\n",
    "        bothsides = WholePop_IAM(sidea, sideb)\n",
    "        bothsides.deathprob = deathrateI\n",
    "        bothsides.alphaA, bothsides.alphaB = migrationI, migrationI\n",
    "        \n",
    "        for i in range(500): bothsides.update()\n",
    "        heatmap[Dcounter, Mcounter] = math.log10(bothsides.FST())\n",
    "        heatmap_pop[Dcounter, Mcounter] = bothsides.popa.N + bothsides.popb.N\n",
    "        \n",
    "plt.imshow(heatmap, origin = 'lower')\n",
    "plt.title('FST IAM model')\n",
    "plt.grid(False)\n",
    "plt.xticks([])\n",
    "plt.yticks([])\n",
    "plt.xlabel('Migration')\n",
    "plt.ylabel('Xing Death Prob')\n",
    "plt.colorbar()\n",
    "plt.savefig(\"heatmap_IAM\", figsize= (15,15),  bbox_inches='tight', DPI = 300)\n",
    "plt.show()\n",
    "plt.close()\n",
    "\n",
    "plt.imshow(heatmap_pop, origin = 'lower')\n",
    "plt.title('Population Size IAM model')\n",
    "plt.grid(False)\n",
    "plt.xticks([])\n",
    "plt.yticks([])\n",
    "plt.xlabel('Migration')\n",
    "plt.ylabel('Xing Death Prob')\n",
    "plt.colorbar()\n",
    "plt.savefig(\"heatmap_popIAM\", figsize= (10,10),  bbox_inches='tight', DPI = 300)\n",
    "plt.show()\n",
    "            \n",
    "        \n",
    "        "
   ]
  },
  {
   "cell_type": "code",
   "execution_count": null,
   "metadata": {
    "collapsed": true
   },
   "outputs": [],
   "source": []
  },
  {
   "cell_type": "code",
   "execution_count": null,
   "metadata": {
    "collapsed": true
   },
   "outputs": [],
   "source": []
  }
 ],
 "metadata": {
  "kernelspec": {
   "display_name": "Python 3",
   "language": "python",
   "name": "python3"
  },
  "language_info": {
   "codemirror_mode": {
    "name": "ipython",
    "version": 3
   },
   "file_extension": ".py",
   "mimetype": "text/x-python",
   "name": "python",
   "nbconvert_exporter": "python",
   "pygments_lexer": "ipython3",
   "version": "3.5.3"
  }
 },
 "nbformat": 4,
 "nbformat_minor": 2
}
